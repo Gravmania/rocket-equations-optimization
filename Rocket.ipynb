{
 "cells": [
  {
   "cell_type": "markdown",
   "metadata": {},
   "source": [
    "## rocket equation\n",
    "\n",
    "##### the delta-v concept is used here. \n",
    "\n",
    "#### The burnrate of fuel applied for x fraction of a second gives a specific impulse.   \n",
    "#### When multiplied by the exhaust escape velocity this yields the specific thrust in newtons which in turn gives the applied force on the remaining rocket mass. \n",
    "#### The resulting diff equaltion thus depends on mass versus change in mass (impulse) at time t which gives the total accrued velocity\n",
    "\n",
    "##### equations from https://ocw.mit.edu/courses/aeronautics-and-astronautics/16-07-dynamics-fall-2009/lecture-notes/MIT16_07F09_Lec14.pdf"
   ]
  },
  {
   "cell_type": "code",
   "execution_count": 8,
   "metadata": {},
   "outputs": [],
   "source": [
    "import numpy as np\n",
    "import matplotlib.pyplot as plt\n",
    "from scipy.integrate import odeint"
   ]
  },
  {
   "cell_type": "markdown",
   "metadata": {},
   "source": [
    "#### defining constants\n",
    "\n",
    "    m_0  = initial total rocket mass in kg  \n",
    "    dmdt = change in mass (burnrate) in kg/s, negative as mass is expelled (depends on size and number of engines)\n",
    "    t    = time in seconds  \n",
    "    y    = altitude in meter\n",
    "    y0   = initial altitude in meter \n",
    "    dydt = velocity in m/s  \n",
    "    c    = exhaust velocity in m/s (determined by fuel type and nozzle shape)\n",
    "    g    = gravitational acceleration = 9.8 m/s^2  \n",
    "    n    = number of time samples  \n",
    "    "
   ]
  },
  {
   "cell_type": "code",
   "execution_count": 13,
   "metadata": {},
   "outputs": [
    {
     "name": "stdout",
     "output_type": "stream",
     "text": [
      "burn time 90.0 seconds\n",
      "burn rate 20 kg/s\n",
      "\n",
      "altitude at end of burn [[194.72953989]] km\n",
      "final velocity 7177.047825479159 m/s\n",
      "\n",
      "coasting height in meter 2628.0620147558734 km\n",
      "highest attained altitude in km [[2822.79155464]]\n"
     ]
    },
    {
     "name": "stderr",
     "output_type": "stream",
     "text": [
      "C:\\Users\\grav\\Anaconda3\\lib\\site-packages\\ipykernel_launcher.py:28: DeprecationWarning: object of type <class 'float'> cannot be safely interpreted as an integer.\n"
     ]
    },
    {
     "data": {
      "image/png": "[encoded data removed]",
      "text/plain": [
       "<Figure size 432x288 with 1 Axes>"
      ]
     },
     "metadata": {
      "needs_background": "light"
     },
     "output_type": "display_data"
    }
   ],
   "source": [
    "m_0 = 2000 #kg\n",
    "dmdt = -20 #kg/s\n",
    "c = 3500  #m/s\n",
    "g = 9.8   #m/s^2\n",
    "vehicle_mass_kg =200 #engines, payload, hull, guidance systems\n",
    "\n",
    "# calculate the amount of fuel\n",
    "fuel_kg = m_0 - vehicle_mass_kg\n",
    "\n",
    "# calculate the length of the thrust. \n",
    "burn_time_seconds = fuel_kg/-dmdt\n",
    "\n",
    "\n",
    "print ('burn time',burn_time_seconds,'seconds')\n",
    "print ('burn rate', -dmdt, 'kg/s\\n')\n",
    "\n",
    "\n",
    "# defining the velocity at time t\n",
    "def velocity(y, t, dmdt):    \n",
    "    dydt =  -c * np.log ((m_0 + dmdt*t)/m_0) - g*t\n",
    "    return dydt\n",
    "\n",
    "\n",
    "# setting up timeline resolution for burning all fuel. \n",
    "samples_per_second = 10\n",
    "n = burn_time_seconds * samples_per_second\n",
    "\n",
    "t = np.linspace(0, burn_time_seconds, n)\n",
    "\n",
    "\n",
    "#initial altitude in meter (launchpad)\n",
    "y0= 10.0 \n",
    "\n",
    "#solve ODE\n",
    "y = odeint(velocity, y0, t, args = (dmdt,))\n",
    "\n",
    "#velocity at end of burn, using last position of just calculated array\n",
    "print('altitude at end of burn', y[int(n-1):]/1000, 'km' )\n",
    "\n",
    "\n",
    "#getting the final velocity straight from the equation\n",
    "v_at_end_of_burn = velocity (y, burn_time_seconds, dmdt)\n",
    "\n",
    "print('final velocity', v_at_end_of_burn,  'm/s\\n')\n",
    "\n",
    "\n",
    "#max_altitude = altitude when fuel runs out + altitude attained during coasting \n",
    "# coasting altitude using basic kinetatics formula\n",
    "# y_coast = v_final**2 - v_initial**2 / -2*a\n",
    "\n",
    "y_coast = (0 - v_at_end_of_burn**2) / (-2*g)\n",
    "print ('coasting height in meter',y_coast/1000, 'km')\n",
    "\n",
    "max_altitude = y[int(n-1):] + y_coast\n",
    "print ('highest attained altitude in km',max_altitude/1000)\n",
    "\n",
    "\n",
    "\n",
    "plt.plot(t,y)\n",
    "plt.xlabel ('elapsed time in seconds')\n",
    "plt.ylabel ('rocket altitude in meter')\n",
    "plt.show()\n"
   ]
  },
  {
   "cell_type": "markdown",
   "metadata": {},
   "source": [
    "## optimizing\n",
    "\n",
    "#### We're going to optimize for maximum altitude based of rate of fuel burn because engines are expensive as heck\n",
    "\n",
    "#### we're using both drag and gravity this time\n",
    "\n",
    "#### first the constants are defined\n",
    "#### then the equations are written out for clarity, these are then combined for easier optimization\n",
    "#### although drag is used, a constant air density is used without regard for altitude for simplicity, atmosphere extends forever\n",
    "\n",
    "###### equations from https://web.mit.edu/16.unified/www/FALL/thermodynamics/notes/node103.html and http://www.rocketmime.com/rockets/qref.html\n"
   ]
  },
  {
   "cell_type": "code",
   "execution_count": 2,
   "metadata": {},
   "outputs": [],
   "source": [
    "import numpy as np\n",
    "from scipy.optimize import minimize"
   ]
  },
  {
   "cell_type": "code",
   "execution_count": 9,
   "metadata": {},
   "outputs": [
    {
     "name": "stdout",
     "output_type": "stream",
     "text": [
      "total thrust time 60.0 s\n",
      "\n",
      "final velocity 5.291628690860636 km/s\n",
      " burn out height 167.67665683946214 km\n",
      " coast height 1185.5418375303661 km\n",
      " max height 1353.2184943698285 km\n",
      "\n",
      "from single equation 1353.2184943698285 km\n"
     ]
    }
   ],
   "source": [
    "# defining drag coefficients\n",
    "Cd = 0.006 #drag coefficient\n",
    "A = 0.07 #area of rocket\n",
    "rho = 0.8 # average air density\n",
    "drag = 0.5*Cd*A*rho\n",
    "\n",
    "# properties of our rocket\n",
    "m_0 = 2000 #kg\n",
    "dmdt = -30 #burn rate in kg/s\n",
    "c = 3500  #exhaust velocity m/s\n",
    "g = 9.8   #m/s^2\n",
    "vehicle_mass_kg =200 #engines, payload, hull, guidance systems. 10% is average.\n",
    "\n",
    "\n",
    "# calculate the amount of fuel\n",
    "fuel_kg = m_0 - vehicle_mass_kg\n",
    "\n",
    "#assuming constant burn rate we can get the \n",
    "average_mass = vehicle_mass_kg + 0.5*fuel_kg\n",
    "\n",
    "# calculate the length of the thrust. \n",
    "burn_time_seconds = fuel_kg/-dmdt\n",
    "t= burn_time_seconds\n",
    "print('total thrust time',t,'s\\n')\n",
    "\n",
    "\n",
    "\n",
    "# the rocket equations governing velocity and height with drag and gravity assuming constant burnrate\n",
    "def at_burnout (t):\n",
    "    T = c*-dmdt #thrust\n",
    "    k = (2* (np.sqrt((T-average_mass*g)*drag))/average_mass) #handy dandy constant\n",
    "    q = (np.sqrt((T- vehicle_mass_kg *g)/drag)) #handy dandy constant\n",
    "    v = (q * ((1-np.exp(-k*t))/(1+np.exp(-k*t)))) #velocity at time t\n",
    "    y_T = (-average_mass/(2*drag))*np.log((T-average_mass*g-drag*v**2)/(T-average_mass*g)) #burn out altitude\n",
    "    y_coast = (average_mass/(2*drag))*np.log((average_mass*g+drag*v**2)/(average_mass*g)) #coasting altitude gain\n",
    "    max_altitude = y_T + y_coast\n",
    "    return v, y_T, y_coast, max_altitude\n",
    "\n",
    "#Double check these values against the single equation below\n",
    "print ('final velocity',at_burnout(t)[0]/1000,'km/s\\n','burn out height',at_burnout(t)[1]/1000, 'km\\n', \n",
    "       'coast height',at_burnout(t)[2]/1000, 'km\\n','max height',at_burnout(t)[3]/1000, 'km\\n')\n",
    "\n",
    "\n",
    "\n",
    "#now combined into a single equation as a function of burnrate. Added a negative for the minimization step later \n",
    "def maximum_height(dmdt):    \n",
    "    y = -(((average_mass/(2*drag))*np.log((average_mass*g+drag*((np.sqrt(((c*-dmdt)- vehicle_mass_kg *g)/drag)) *\n",
    "                ((1-np.exp(-(2* (np.sqrt(((c*-dmdt)-average_mass*g)*drag))/average_mass)*(fuel_kg/-dmdt)))/\n",
    "                 (1+np.exp(-(2* (np.sqrt(((c*-dmdt)-average_mass*g)*drag))/average_mass)*(fuel_kg/-dmdt)))))**2)/\n",
    "                    (average_mass*g)))+(-average_mass/(2*drag))*np.log(((c*-dmdt)-average_mass*g-drag*\n",
    "                        ((np.sqrt(((c*-dmdt)- vehicle_mass_kg *g)/drag)) * ((1-np.exp(-(2* (np.sqrt(((c*-dmdt)-average_mass*g)*\n",
    "                            drag))/average_mass)*(fuel_kg/-dmdt)))/(1+np.exp(-(2* (np.sqrt(((c*-dmdt)-average_mass*g)*drag))/\n",
    "                                average_mass)*(fuel_kg/-dmdt)))))**2)/((c*-dmdt)-average_mass*g)))\n",
    "    return y\n",
    "\n",
    "print('from single equation',-maximum_height(-30)/1000, 'km')\n",
    "\n"
   ]
  },
  {
   "cell_type": "code",
   "execution_count": 4,
   "metadata": {},
   "outputs": [
    {
     "name": "stdout",
     "output_type": "stream",
     "text": [
      "     fun: -1358494.4773317748\n",
      "     jac: array([-976.40625])\n",
      " message: 'Optimization terminated successfully.'\n",
      "    nfev: 20\n",
      "     nit: 3\n",
      "    njev: 3\n",
      "  status: 0\n",
      " success: True\n",
      "       x: array([-16.8])\n"
     ]
    }
   ],
   "source": [
    "# must be able to lift off, lets have minimum thrust be at least 3 x weight\n",
    "def constraint1(dmdt):\n",
    "    return (c*-dmdt) - 3*(m_0*g)\n",
    "\n",
    "con1 = {'type':'ineq','fun':constraint1}\n",
    "cons = [con1]\n",
    "\n",
    "\n",
    "# we cannot fit more than 10 engines, need at least 1\n",
    "bounds = [(-50.0, -5.0)]\n",
    "\n",
    "\n",
    "# lets set initial guess at 30 kg/s, negative as the mass is leaving the rocket\n",
    "x0 = [-30]\n",
    "sol = minimize(maximum_height, x0, method = 'SLSQP', bounds = bounds, constraints = cons)\n",
    "print (sol)"
   ]
  },
  {
   "cell_type": "markdown",
   "metadata": {},
   "source": [
    "### and there we have it, optimum burn rate is 16.8 kg/s so we should use about 3 engines"
   ]
  },
  {
   "cell_type": "code",
   "execution_count": null,
   "metadata": {},
   "outputs": [],
   "source": []
  }
 ],
 "metadata": {
  "kernelspec": {
   "display_name": "Python 3",
   "language": "python",
   "name": "python3"
  },
  "language_info": {
   "codemirror_mode": {
    "name": "ipython",
    "version": 3
   },
   "file_extension": ".py",
   "mimetype": "text/x-python",
   "name": "python",
   "nbconvert_exporter": "python",
   "pygments_lexer": "ipython3",
   "version": "3.7.1"
  }
 },
 "nbformat": 4,
 "nbformat_minor": 2
}
